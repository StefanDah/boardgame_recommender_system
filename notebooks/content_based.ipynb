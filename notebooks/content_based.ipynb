{
 "cells": [
  {
   "cell_type": "code",
   "execution_count": 149,
   "metadata": {},
   "outputs": [],
   "source": [
    "#data handling\n",
    "import pandas as pd\n",
    "import numpy as np\n",
    "import pprint\n",
    "\n",
    "#plotting\n",
    "import matplotlib.pyplot as plt\n",
    "\n",
    "#model building\n",
    "from sklearn.model_selection import train_test_split\n",
    "import tensorflow as tf\n",
    "import tensorflow_datasets as tfds\n",
    "import tensorflow_recommenders as tfrs\n",
    "\n"
   ]
  },
  {
   "cell_type": "code",
   "execution_count": 150,
   "metadata": {},
   "outputs": [],
   "source": [
    "# Load dataset\n",
    "# Boardgames and rankings\n",
    "boardgames_df = pd.read_csv('data/boardgames_ranks.csv')\n",
    "# Boardgame details like, rating, playtime etc.\n",
    "boardgames_details_df = pd.read_csv('data/game_details.csv')\n",
    "\n",
    "\n",
    "# Rename columns\n",
    "boardgames_df.rename(columns={'id' : 'game_id', 'name': 'game_name'}, inplace=True)\n",
    "# Merge both datasets \n",
    "df_merged = boardgames_df.merge(boardgames_details_df, on='game_id', how='left')\n",
    "# Only keep boardgames that are ranked\n",
    "df_merged = df_merged[df_merged['rank'] >= 1]\n"
   ]
  },
  {
   "cell_type": "code",
   "execution_count": 151,
   "metadata": {},
   "outputs": [],
   "source": [
    "# List of features for model building\n",
    "feature_names = ['rank', 'average', 'usersrated', 'playingtime','averageweight']\n",
    "\n",
    "# Create feature dataset\n",
    "df_features = df_merged[feature_names]\n",
    "\n",
    "# Create game id dataset (important for indexing later)\n",
    "df_game_ids = df_merged['game_id']"
   ]
  },
  {
   "cell_type": "code",
   "execution_count": 152,
   "metadata": {},
   "outputs": [],
   "source": [
    "# # Create candidate dictionary with featurer and game_id keys \n",
    "# candidate_data = []\n",
    "# for index, feature_row in df_features.iterrows():\n",
    "#     # Convert the row to a list of feature values.\n",
    "#     features_list = feature_row.tolist()  \n",
    "#     # Retrieve the corresponding game_id from df_game_ids using the same index\n",
    "#     game_id = df_game_ids.iloc[index] \n",
    "\n",
    "#     # Append the dictionary with keys 'features' and 'game_id'\n",
    "#     candidate_data.append({\"features\": features_list, \"game_id\": game_id})\n",
    "\n"
   ]
  },
  {
   "cell_type": "code",
   "execution_count": 153,
   "metadata": {},
   "outputs": [],
   "source": [
    "# Create candidate dictionary with features and game_id keys \n",
    "candidate_data_dict = {\n",
    "    \"features\": [],\n",
    "    \"game_id\": []\n",
    "}\n",
    "\n",
    "for index, feature_row in df_features.iterrows():\n",
    "    candidate_data_dict[\"features\"].append(feature_row.tolist())  \n",
    "    candidate_data_dict[\"game_id\"].append(df_game_ids.iloc[index])\n"
   ]
  },
  {
   "cell_type": "code",
   "execution_count": 154,
   "metadata": {},
   "outputs": [],
   "source": [
    "# # Convert the list of dicts into a dict of lists.\n",
    "# candidate_data_dict = {\n",
    "#     \"features\": [item[\"features\"] for item in candidate_data],\n",
    "#     \"game_id\": [item[\"game_id\"] for item in candidate_data]\n",
    "# }"
   ]
  },
  {
   "cell_type": "code",
   "execution_count": 155,
   "metadata": {},
   "outputs": [],
   "source": [
    "# Convert the list into a tensorflow dataset\n",
    "candidate_dataset = tf.data.Dataset.from_tensor_slices(candidate_data_dict)\n",
    "\n",
    "# Batch data for optimization\n",
    "candidate_dataset = candidate_dataset.batch(32)"
   ]
  },
  {
   "cell_type": "code",
   "execution_count": 156,
   "metadata": {},
   "outputs": [],
   "source": [
    "# Split feature dataset into train, validation, and test sets\n",
    "train_data, test_data = train_test_split(df_features, test_size=0.2, random_state=42)\n",
    "train_data, val_data = train_test_split(train_data, test_size=0.1, random_state=42)"
   ]
  },
  {
   "cell_type": "code",
   "execution_count": 157,
   "metadata": {},
   "outputs": [],
   "source": [
    "# Create a tensorflow normalization layer and adapt it on the training data\n",
    "normalizer = tf.keras.layers.Normalization()\n",
    "normalizer.adapt(train_data.to_numpy())"
   ]
  },
  {
   "cell_type": "code",
   "execution_count": 158,
   "metadata": {},
   "outputs": [],
   "source": [
    "# Function for creating train, validation and test tensorflow datasets\n",
    "def df_to_dataset(dataframe, shuffle=True, batch_size=32):\n",
    "    dataframe = dataframe.copy()\n",
    "    ds = tf.data.Dataset.from_tensor_slices({\"features\": dataframe.to_numpy()})\n",
    "    if shuffle:\n",
    "        ds = ds.shuffle(buffer_size=len(dataframe))\n",
    "    ds = ds.batch(batch_size)\n",
    "    return ds\n",
    "\n",
    "batch_size = 32\n",
    "train_ds = df_to_dataset(train_data, batch_size=batch_size)\n",
    "val_ds = df_to_dataset(val_data, shuffle=False, batch_size=batch_size)\n",
    "test_ds = df_to_dataset(test_data, shuffle=False, batch_size=batch_size)"
   ]
  },
  {
   "cell_type": "code",
   "execution_count": 159,
   "metadata": {},
   "outputs": [],
   "source": [
    "# for x in all_boardgames_ds.take(1).as_numpy_iterator():\n",
    "#   pprint.pprint(x)"
   ]
  },
  {
   "cell_type": "code",
   "execution_count": 160,
   "metadata": {},
   "outputs": [],
   "source": [
    "# # Create the boardgame dataset\n",
    "# all_boardgames_ds = tf.data.Dataset.from_tensor_slices({\n",
    "#     \"features\": df_features.to_numpy().astype('float32'),\n",
    "#     \"game_id\": df_game_ids.to_numpy().astype('int32')\n",
    "# })\n",
    "# all_boardgames_ds = all_boardgames_ds.batch(32)\n",
    "\n",
    "# # Create the candidate dataset, then unbatch it and batch it again to ensure correct shape\n",
    "# candidate_ds = all_boardgames_ds.map(lambda x: x[\"features\"]).unbatch().batch(32)\n"
   ]
  },
  {
   "cell_type": "code",
   "execution_count": 161,
   "metadata": {},
   "outputs": [],
   "source": [
    "# Define the BoardgameContentModel class\n",
    "class BoardgameContentModel(tfrs.Model):\n",
    "    # Initialize the parent tfrs.Model class.\n",
    "    def __init__(self, embedding_dim, candidate_dataset):\n",
    "        super().__init__()\n",
    "        \n",
    "        # Build the boardgame feature encoder (tower)\n",
    "        # - Input: Feature vector with length equal to number of feature_names\n",
    "        # - Hidden layer: 64 neurons with ReLU activation\n",
    "        # - Output layer: Projects to the embedding space of dimension `embedding_dim`\n",
    "        # - Normalization: L2 normalization for cosine similarity      \n",
    "        self.boardgame_model = tf.keras.Sequential([\n",
    "            tf.keras.layers.InputLayer(input_shape=(len(feature_names),)),\n",
    "            tf.keras.layers.Dense(64, activation='relu'),\n",
    "            tf.keras.layers.Dense(embedding_dim),\n",
    "            tf.keras.layers.Lambda(lambda x: tf.math.l2_normalize(x, axis=1))\n",
    "        ])\n",
    "        \n",
    "        # Precompute candidate embeddings from the candidate dataset\n",
    "        # Each candidate is expected to be a dictionary with a features key    \n",
    "        candidate_embeddings = candidate_dataset.map(\n",
    "            lambda x: self.boardgame_model(x[\"features\"])\n",
    "        )\n",
    "        \n",
    "        # Configure the retrieval task with FactorizedTopK metrics using the candidate embeddings\n",
    "        self.task = tfrs.tasks.Retrieval(\n",
    "            metrics=tfrs.metrics.FactorizedTopK(candidates=candidate_embeddings)\n",
    "        )\n",
    "        \n",
    "    # The compute_loss method defines how the model's loss is computed during training\n",
    "    def compute_loss(self, features, training=False):\n",
    "        # Compute boardgame embeddings from the input features.\n",
    "        boardgame_embeddings = self.boardgame_model(features[\"features\"])\n",
    "        \n",
    "        # Use the embeddings as both query and candidate for the retrieval task\n",
    "        # The task computes a loss based on ranking similar items higher    \n",
    "        return self.task(boardgame_embeddings, boardgame_embeddings)\n",
    "\n",
    "\n"
   ]
  },
  {
   "cell_type": "code",
   "execution_count": 162,
   "metadata": {},
   "outputs": [
    {
     "name": "stdout",
     "output_type": "stream",
     "text": [
      "Epoch 1/2\n",
      "629/629 [==============================] - 125s 198ms/step - factorized_top_k/top_1_categorical_accuracy: 1.0000 - factorized_top_k/top_5_categorical_accuracy: 1.0000 - factorized_top_k/top_10_categorical_accuracy: 1.0000 - factorized_top_k/top_50_categorical_accuracy: 1.0000 - factorized_top_k/top_100_categorical_accuracy: 1.0000 - loss: 89.9374 - regularization_loss: 0.0000e+00 - total_loss: 89.9374 - val_factorized_top_k/top_1_categorical_accuracy: 0.6531 - val_factorized_top_k/top_5_categorical_accuracy: 0.9951 - val_factorized_top_k/top_10_categorical_accuracy: 0.9978 - val_factorized_top_k/top_50_categorical_accuracy: 1.0000 - val_factorized_top_k/top_100_categorical_accuracy: 1.0000 - val_loss: 68.5241 - val_regularization_loss: 0.0000e+00 - val_total_loss: 68.5241\n",
      "Epoch 2/2\n",
      "629/629 [==============================] - 120s 191ms/step - factorized_top_k/top_1_categorical_accuracy: 1.0000 - factorized_top_k/top_5_categorical_accuracy: 1.0000 - factorized_top_k/top_10_categorical_accuracy: 1.0000 - factorized_top_k/top_50_categorical_accuracy: 1.0000 - factorized_top_k/top_100_categorical_accuracy: 1.0000 - loss: 86.1307 - regularization_loss: 0.0000e+00 - total_loss: 86.1307 - val_factorized_top_k/top_1_categorical_accuracy: 0.6893 - val_factorized_top_k/top_5_categorical_accuracy: 0.9951 - val_factorized_top_k/top_10_categorical_accuracy: 0.9991 - val_factorized_top_k/top_50_categorical_accuracy: 1.0000 - val_factorized_top_k/top_100_categorical_accuracy: 1.0000 - val_loss: 64.3572 - val_regularization_loss: 0.0000e+00 - val_total_loss: 64.3572\n"
     ]
    },
    {
     "data": {
      "image/png": "[encoded data removed]",
      "text/plain": [
       "<Figure size 800x400 with 1 Axes>"
      ]
     },
     "metadata": {},
     "output_type": "display_data"
    }
   ],
   "source": [
    "# Pass candidate_ds to your model\n",
    "embedding_dim = 32\n",
    "model = BoardgameContentModel(embedding_dim, candidate_dataset)\n",
    "\n",
    "# Compile the model with the adam adaptive learning rate optimization algorithm\n",
    "model.compile(optimizer=tf.keras.optimizers.Adam(learning_rate=0.001))\n",
    "\n",
    "# Train the model\n",
    "history = model.fit(train_ds, validation_data=val_ds, epochs=2)\n",
    "\n",
    "# Plot the training and validation loss over epochs.\n",
    "plt.figure(figsize=(8, 4))\n",
    "plt.plot(history.history['loss'], label='Training Loss')\n",
    "plt.plot(history.history['val_loss'], label='Validation Loss')\n",
    "plt.xlabel('Epochs')\n",
    "plt.ylabel('Loss')\n",
    "plt.title('Training and Validation Loss')\n",
    "plt.legend()\n",
    "plt.show()"
   ]
  },
  {
   "cell_type": "code",
   "execution_count": 163,
   "metadata": {},
   "outputs": [
    {
     "data": {
      "image/png": "[encoded data removed]",
      "text/plain": [
       "<Figure size 640x480 with 1 Axes>"
      ]
     },
     "metadata": {},
     "output_type": "display_data"
    }
   ],
   "source": [
    "# Plot changes in model accuracy during training\n",
    "plt.plot(history.history[\"factorized_top_k/top_100_categorical_accuracy\"])\n",
    "plt.plot(history.history[\"val_factorized_top_k/top_100_categorical_accuracy\"])\n",
    "plt.title(\"Model accuracies during training\")\n",
    "plt.xlabel(\"epoch\")\n",
    "plt.ylabel(\"accuracy\")\n",
    "plt.legend([\"train\", \"test\"], loc=\"upper right\")\n",
    "plt.show()"
   ]
  },
  {
   "cell_type": "code",
   "execution_count": 164,
   "metadata": {},
   "outputs": [
    {
     "name": "stdout",
     "output_type": "stream",
     "text": [
      "175/175 [==============================] - 30s 172ms/step - factorized_top_k/top_1_categorical_accuracy: 0.6772 - factorized_top_k/top_5_categorical_accuracy: 0.9962 - factorized_top_k/top_10_categorical_accuracy: 0.9982 - factorized_top_k/top_50_categorical_accuracy: 1.0000 - factorized_top_k/top_100_categorical_accuracy: 1.0000 - loss: 85.5311 - regularization_loss: 0.0000e+00 - total_loss: 85.5311\n"
     ]
    },
    {
     "data": {
      "text/plain": [
       "{'factorized_top_k/top_1_categorical_accuracy': 0.677170991897583,\n",
       " 'factorized_top_k/top_5_categorical_accuracy': 0.9962399005889893,\n",
       " 'factorized_top_k/top_10_categorical_accuracy': 0.9982094764709473,\n",
       " 'factorized_top_k/top_50_categorical_accuracy': 1.0,\n",
       " 'factorized_top_k/top_100_categorical_accuracy': 1.0,\n",
       " 'loss': 35.32411575317383,\n",
       " 'regularization_loss': 0,\n",
       " 'total_loss': 35.32411575317383}"
      ]
     },
     "execution_count": 164,
     "metadata": {},
     "output_type": "execute_result"
    }
   ],
   "source": [
    "# Evaluate model on test data \n",
    "model.evaluate(test_ds, return_dict=True)"
   ]
  },
  {
   "cell_type": "code",
   "execution_count": 165,
   "metadata": {},
   "outputs": [],
   "source": [
    "# Custom callback to evaluate on the test set after each epoch.\n",
    "class TestSetEvaluator(tf.keras.callbacks.Callback):\n",
    "    def __init__(self, test_dataset):\n",
    "        super().__init__()\n",
    "        self.test_dataset = test_dataset\n",
    "        self.test_metrics = []  # To store metrics from each epoch\n",
    "\n",
    "    def on_epoch_end(self, epoch, logs=None):\n",
    "        # Evaluate the model on the test set silently\n",
    "        test_result = self.model.evaluate(self.test_dataset, verbose=0)\n",
    "        # Create a dictionary mapping metric names to their values\n",
    "        metrics_dict = dict(zip(self.model.metrics_names, test_result))\n",
    "        self.test_metrics.append(metrics_dict)\n",
    "        print(f\"Test metrics after epoch {epoch+1}: {metrics_dict}\")\n",
    "\n",
    "# Assume you have a test dataset called `test_ds`\n",
    "test_evaluator = TestSetEvaluator(test_ds)\n",
    "\n",
    "# Train the model while using the custom callback\n",
    "# history = model.fit(train_ds, validation_data=val_ds, epochs=3, callbacks=[test_evaluator])\n"
   ]
  },
  {
   "cell_type": "code",
   "execution_count": 166,
   "metadata": {},
   "outputs": [
    {
     "ename": "ValueError",
     "evalue": "x and y must have same first dimension, but have shapes (2,) and (0,)",
     "output_type": "error",
     "traceback": [
      "\u001b[1;31m---------------------------------------------------------------------------\u001b[0m",
      "\u001b[1;31mValueError\u001b[0m                                Traceback (most recent call last)",
      "Cell \u001b[1;32mIn[166], line 14\u001b[0m\n\u001b[0;32m     12\u001b[0m plt\u001b[38;5;241m.\u001b[39mfigure(figsize\u001b[38;5;241m=\u001b[39m(\u001b[38;5;241m8\u001b[39m, \u001b[38;5;241m5\u001b[39m))\n\u001b[0;32m     13\u001b[0m plt\u001b[38;5;241m.\u001b[39mplot(epochs, train_top1, marker\u001b[38;5;241m=\u001b[39m\u001b[38;5;124m'\u001b[39m\u001b[38;5;124mo\u001b[39m\u001b[38;5;124m'\u001b[39m, label\u001b[38;5;241m=\u001b[39m\u001b[38;5;124m'\u001b[39m\u001b[38;5;124mTrain Top-1 Accuracy\u001b[39m\u001b[38;5;124m'\u001b[39m)\n\u001b[1;32m---> 14\u001b[0m \u001b[43mplt\u001b[49m\u001b[38;5;241;43m.\u001b[39;49m\u001b[43mplot\u001b[49m\u001b[43m(\u001b[49m\u001b[43mepochs\u001b[49m\u001b[43m,\u001b[49m\u001b[43m \u001b[49m\u001b[43mtest_top1\u001b[49m\u001b[43m,\u001b[49m\u001b[43m \u001b[49m\u001b[43mmarker\u001b[49m\u001b[38;5;241;43m=\u001b[39;49m\u001b[38;5;124;43m'\u001b[39;49m\u001b[38;5;124;43mo\u001b[39;49m\u001b[38;5;124;43m'\u001b[39;49m\u001b[43m,\u001b[49m\u001b[43m \u001b[49m\u001b[43mlabel\u001b[49m\u001b[38;5;241;43m=\u001b[39;49m\u001b[38;5;124;43m'\u001b[39;49m\u001b[38;5;124;43mTest Top-1 Accuracy\u001b[39;49m\u001b[38;5;124;43m'\u001b[39;49m\u001b[43m)\u001b[49m\n\u001b[0;32m     15\u001b[0m plt\u001b[38;5;241m.\u001b[39mxlabel(\u001b[38;5;124m'\u001b[39m\u001b[38;5;124mEpoch\u001b[39m\u001b[38;5;124m'\u001b[39m)\n\u001b[0;32m     16\u001b[0m plt\u001b[38;5;241m.\u001b[39mylabel(\u001b[38;5;124m'\u001b[39m\u001b[38;5;124mTop-1 Accuracy\u001b[39m\u001b[38;5;124m'\u001b[39m)\n",
      "File \u001b[1;32mc:\\Users\\stefa\\Desktop\\Bootcamp\\boardgame_recommender\\tensorflow_recommender\\.venv\\Lib\\site-packages\\matplotlib\\pyplot.py:3829\u001b[0m, in \u001b[0;36mplot\u001b[1;34m(scalex, scaley, data, *args, **kwargs)\u001b[0m\n\u001b[0;32m   3821\u001b[0m \u001b[38;5;129m@_copy_docstring_and_deprecators\u001b[39m(Axes\u001b[38;5;241m.\u001b[39mplot)\n\u001b[0;32m   3822\u001b[0m \u001b[38;5;28;01mdef\u001b[39;00m\u001b[38;5;250m \u001b[39m\u001b[38;5;21mplot\u001b[39m(\n\u001b[0;32m   3823\u001b[0m     \u001b[38;5;241m*\u001b[39margs: \u001b[38;5;28mfloat\u001b[39m \u001b[38;5;241m|\u001b[39m ArrayLike \u001b[38;5;241m|\u001b[39m \u001b[38;5;28mstr\u001b[39m,\n\u001b[1;32m   (...)\u001b[0m\n\u001b[0;32m   3827\u001b[0m     \u001b[38;5;241m*\u001b[39m\u001b[38;5;241m*\u001b[39mkwargs,\n\u001b[0;32m   3828\u001b[0m ) \u001b[38;5;241m-\u001b[39m\u001b[38;5;241m>\u001b[39m \u001b[38;5;28mlist\u001b[39m[Line2D]:\n\u001b[1;32m-> 3829\u001b[0m     \u001b[38;5;28;01mreturn\u001b[39;00m \u001b[43mgca\u001b[49m\u001b[43m(\u001b[49m\u001b[43m)\u001b[49m\u001b[38;5;241;43m.\u001b[39;49m\u001b[43mplot\u001b[49m\u001b[43m(\u001b[49m\n\u001b[0;32m   3830\u001b[0m \u001b[43m        \u001b[49m\u001b[38;5;241;43m*\u001b[39;49m\u001b[43margs\u001b[49m\u001b[43m,\u001b[49m\n\u001b[0;32m   3831\u001b[0m \u001b[43m        \u001b[49m\u001b[43mscalex\u001b[49m\u001b[38;5;241;43m=\u001b[39;49m\u001b[43mscalex\u001b[49m\u001b[43m,\u001b[49m\n\u001b[0;32m   3832\u001b[0m \u001b[43m        \u001b[49m\u001b[43mscaley\u001b[49m\u001b[38;5;241;43m=\u001b[39;49m\u001b[43mscaley\u001b[49m\u001b[43m,\u001b[49m\n\u001b[0;32m   3833\u001b[0m \u001b[43m        \u001b[49m\u001b[38;5;241;43m*\u001b[39;49m\u001b[38;5;241;43m*\u001b[39;49m\u001b[43m(\u001b[49m\u001b[43m{\u001b[49m\u001b[38;5;124;43m\"\u001b[39;49m\u001b[38;5;124;43mdata\u001b[39;49m\u001b[38;5;124;43m\"\u001b[39;49m\u001b[43m:\u001b[49m\u001b[43m \u001b[49m\u001b[43mdata\u001b[49m\u001b[43m}\u001b[49m\u001b[43m \u001b[49m\u001b[38;5;28;43;01mif\u001b[39;49;00m\u001b[43m \u001b[49m\u001b[43mdata\u001b[49m\u001b[43m \u001b[49m\u001b[38;5;129;43;01mis\u001b[39;49;00m\u001b[43m \u001b[49m\u001b[38;5;129;43;01mnot\u001b[39;49;00m\u001b[43m \u001b[49m\u001b[38;5;28;43;01mNone\u001b[39;49;00m\u001b[43m \u001b[49m\u001b[38;5;28;43;01melse\u001b[39;49;00m\u001b[43m \u001b[49m\u001b[43m{\u001b[49m\u001b[43m}\u001b[49m\u001b[43m)\u001b[49m\u001b[43m,\u001b[49m\n\u001b[0;32m   3834\u001b[0m \u001b[43m        \u001b[49m\u001b[38;5;241;43m*\u001b[39;49m\u001b[38;5;241;43m*\u001b[39;49m\u001b[43mkwargs\u001b[49m\u001b[43m,\u001b[49m\n\u001b[0;32m   3835\u001b[0m \u001b[43m    \u001b[49m\u001b[43m)\u001b[49m\n",
      "File \u001b[1;32mc:\\Users\\stefa\\Desktop\\Bootcamp\\boardgame_recommender\\tensorflow_recommender\\.venv\\Lib\\site-packages\\matplotlib\\axes\\_axes.py:1777\u001b[0m, in \u001b[0;36mAxes.plot\u001b[1;34m(self, scalex, scaley, data, *args, **kwargs)\u001b[0m\n\u001b[0;32m   1534\u001b[0m \u001b[38;5;250m\u001b[39m\u001b[38;5;124;03m\"\"\"\u001b[39;00m\n\u001b[0;32m   1535\u001b[0m \u001b[38;5;124;03mPlot y versus x as lines and/or markers.\u001b[39;00m\n\u001b[0;32m   1536\u001b[0m \n\u001b[1;32m   (...)\u001b[0m\n\u001b[0;32m   1774\u001b[0m \u001b[38;5;124;03m(``'green'``) or hex strings (``'#008000'``).\u001b[39;00m\n\u001b[0;32m   1775\u001b[0m \u001b[38;5;124;03m\"\"\"\u001b[39;00m\n\u001b[0;32m   1776\u001b[0m kwargs \u001b[38;5;241m=\u001b[39m cbook\u001b[38;5;241m.\u001b[39mnormalize_kwargs(kwargs, mlines\u001b[38;5;241m.\u001b[39mLine2D)\n\u001b[1;32m-> 1777\u001b[0m lines \u001b[38;5;241m=\u001b[39m [\u001b[38;5;241m*\u001b[39m\u001b[38;5;28mself\u001b[39m\u001b[38;5;241m.\u001b[39m_get_lines(\u001b[38;5;28mself\u001b[39m, \u001b[38;5;241m*\u001b[39margs, data\u001b[38;5;241m=\u001b[39mdata, \u001b[38;5;241m*\u001b[39m\u001b[38;5;241m*\u001b[39mkwargs)]\n\u001b[0;32m   1778\u001b[0m \u001b[38;5;28;01mfor\u001b[39;00m line \u001b[38;5;129;01min\u001b[39;00m lines:\n\u001b[0;32m   1779\u001b[0m     \u001b[38;5;28mself\u001b[39m\u001b[38;5;241m.\u001b[39madd_line(line)\n",
      "File \u001b[1;32mc:\\Users\\stefa\\Desktop\\Bootcamp\\boardgame_recommender\\tensorflow_recommender\\.venv\\Lib\\site-packages\\matplotlib\\axes\\_base.py:297\u001b[0m, in \u001b[0;36m_process_plot_var_args.__call__\u001b[1;34m(self, axes, data, return_kwargs, *args, **kwargs)\u001b[0m\n\u001b[0;32m    295\u001b[0m     this \u001b[38;5;241m+\u001b[39m\u001b[38;5;241m=\u001b[39m args[\u001b[38;5;241m0\u001b[39m],\n\u001b[0;32m    296\u001b[0m     args \u001b[38;5;241m=\u001b[39m args[\u001b[38;5;241m1\u001b[39m:]\n\u001b[1;32m--> 297\u001b[0m \u001b[38;5;28;01myield from\u001b[39;00m \u001b[38;5;28;43mself\u001b[39;49m\u001b[38;5;241;43m.\u001b[39;49m\u001b[43m_plot_args\u001b[49m\u001b[43m(\u001b[49m\n\u001b[0;32m    298\u001b[0m \u001b[43m    \u001b[49m\u001b[43maxes\u001b[49m\u001b[43m,\u001b[49m\u001b[43m \u001b[49m\u001b[43mthis\u001b[49m\u001b[43m,\u001b[49m\u001b[43m \u001b[49m\u001b[43mkwargs\u001b[49m\u001b[43m,\u001b[49m\u001b[43m \u001b[49m\u001b[43mambiguous_fmt_datakey\u001b[49m\u001b[38;5;241;43m=\u001b[39;49m\u001b[43mambiguous_fmt_datakey\u001b[49m\u001b[43m,\u001b[49m\n\u001b[0;32m    299\u001b[0m \u001b[43m    \u001b[49m\u001b[43mreturn_kwargs\u001b[49m\u001b[38;5;241;43m=\u001b[39;49m\u001b[43mreturn_kwargs\u001b[49m\n\u001b[0;32m    300\u001b[0m \u001b[43m\u001b[49m\u001b[43m)\u001b[49m\n",
      "File \u001b[1;32mc:\\Users\\stefa\\Desktop\\Bootcamp\\boardgame_recommender\\tensorflow_recommender\\.venv\\Lib\\site-packages\\matplotlib\\axes\\_base.py:494\u001b[0m, in \u001b[0;36m_process_plot_var_args._plot_args\u001b[1;34m(self, axes, tup, kwargs, return_kwargs, ambiguous_fmt_datakey)\u001b[0m\n\u001b[0;32m    491\u001b[0m     axes\u001b[38;5;241m.\u001b[39myaxis\u001b[38;5;241m.\u001b[39mupdate_units(y)\n\u001b[0;32m    493\u001b[0m \u001b[38;5;28;01mif\u001b[39;00m x\u001b[38;5;241m.\u001b[39mshape[\u001b[38;5;241m0\u001b[39m] \u001b[38;5;241m!=\u001b[39m y\u001b[38;5;241m.\u001b[39mshape[\u001b[38;5;241m0\u001b[39m]:\n\u001b[1;32m--> 494\u001b[0m     \u001b[38;5;28;01mraise\u001b[39;00m \u001b[38;5;167;01mValueError\u001b[39;00m(\u001b[38;5;124mf\u001b[39m\u001b[38;5;124m\"\u001b[39m\u001b[38;5;124mx and y must have same first dimension, but \u001b[39m\u001b[38;5;124m\"\u001b[39m\n\u001b[0;32m    495\u001b[0m                      \u001b[38;5;124mf\u001b[39m\u001b[38;5;124m\"\u001b[39m\u001b[38;5;124mhave shapes \u001b[39m\u001b[38;5;132;01m{\u001b[39;00mx\u001b[38;5;241m.\u001b[39mshape\u001b[38;5;132;01m}\u001b[39;00m\u001b[38;5;124m and \u001b[39m\u001b[38;5;132;01m{\u001b[39;00my\u001b[38;5;241m.\u001b[39mshape\u001b[38;5;132;01m}\u001b[39;00m\u001b[38;5;124m\"\u001b[39m)\n\u001b[0;32m    496\u001b[0m \u001b[38;5;28;01mif\u001b[39;00m x\u001b[38;5;241m.\u001b[39mndim \u001b[38;5;241m>\u001b[39m \u001b[38;5;241m2\u001b[39m \u001b[38;5;129;01mor\u001b[39;00m y\u001b[38;5;241m.\u001b[39mndim \u001b[38;5;241m>\u001b[39m \u001b[38;5;241m2\u001b[39m:\n\u001b[0;32m    497\u001b[0m     \u001b[38;5;28;01mraise\u001b[39;00m \u001b[38;5;167;01mValueError\u001b[39;00m(\u001b[38;5;124mf\u001b[39m\u001b[38;5;124m\"\u001b[39m\u001b[38;5;124mx and y can be no greater than 2D, but have \u001b[39m\u001b[38;5;124m\"\u001b[39m\n\u001b[0;32m    498\u001b[0m                      \u001b[38;5;124mf\u001b[39m\u001b[38;5;124m\"\u001b[39m\u001b[38;5;124mshapes \u001b[39m\u001b[38;5;132;01m{\u001b[39;00mx\u001b[38;5;241m.\u001b[39mshape\u001b[38;5;132;01m}\u001b[39;00m\u001b[38;5;124m and \u001b[39m\u001b[38;5;132;01m{\u001b[39;00my\u001b[38;5;241m.\u001b[39mshape\u001b[38;5;132;01m}\u001b[39;00m\u001b[38;5;124m\"\u001b[39m)\n",
      "\u001b[1;31mValueError\u001b[0m: x and y must have same first dimension, but have shapes (2,) and (0,)"
     ]
    },
    {
     "data": {
      "image/png": "[encoded data removed]",
      "text/plain": [
       "<Figure size 800x500 with 1 Axes>"
      ]
     },
     "metadata": {},
     "output_type": "display_data"
    }
   ],
   "source": [
    "# Extract training top-1 accuracy from history.\n",
    "# Adjust the key based on your metric name (e.g., \"factorized_top_k/top_1_categorical_accuracy\")\n",
    "train_top1 = history.history['factorized_top_k/top_1_categorical_accuracy']\n",
    "\n",
    "# Extract test top-1 accuracy from the custom callback\n",
    "test_top1 = [metrics['factorized_top_k/top_1_categorical_accuracy'] for metrics in test_evaluator.test_metrics]\n",
    "\n",
    "# Define the number of epochs (assuming both lists have the same length)\n",
    "epochs = range(1, len(train_top1) + 1)\n",
    "\n",
    "# Plot training and test metrics\n",
    "plt.figure(figsize=(8, 5))\n",
    "plt.plot(epochs, train_top1, marker='o', label='Train Top-1 Accuracy')\n",
    "plt.plot(epochs, test_top1, marker='o', label='Test Top-1 Accuracy')\n",
    "plt.xlabel('Epoch')\n",
    "plt.ylabel('Top-1 Accuracy')\n",
    "plt.title('Train vs Test Top-1 Accuracy')\n",
    "plt.legend()\n",
    "plt.grid(True)\n",
    "plt.show()\n"
   ]
  },
  {
   "cell_type": "code",
   "execution_count": 167,
   "metadata": {},
   "outputs": [
    {
     "data": {
      "text/plain": [
       "<tensorflow_recommenders.layers.factorized_top_k.BruteForce at 0x23891282b10>"
      ]
     },
     "execution_count": 167,
     "metadata": {},
     "output_type": "execute_result"
    }
   ],
   "source": [
    "# Set up the retrieval index\n",
    "index = tfrs.layers.factorized_top_k.BruteForce(model.boardgame_model)\n",
    "index.index_from_dataset(\n",
    "    candidate_dataset.map(lambda x: (x[\"game_id\"], model.boardgame_model(x[\"features\"])))\n",
    ")\n"
   ]
  },
  {
   "cell_type": "code",
   "execution_count": 168,
   "metadata": {},
   "outputs": [
    {
     "data": {
      "text/html": [
       "<div>\n",
       "<style scoped>\n",
       "    .dataframe tbody tr th:only-of-type {\n",
       "        vertical-align: middle;\n",
       "    }\n",
       "\n",
       "    .dataframe tbody tr th {\n",
       "        vertical-align: top;\n",
       "    }\n",
       "\n",
       "    .dataframe thead th {\n",
       "        text-align: right;\n",
       "    }\n",
       "</style>\n",
       "<table border=\"1\" class=\"dataframe\">\n",
       "  <thead>\n",
       "    <tr style=\"text-align: right;\">\n",
       "      <th></th>\n",
       "      <th>game_name</th>\n",
       "      <th>rank</th>\n",
       "      <th>average</th>\n",
       "      <th>usersrated</th>\n",
       "      <th>playingtime</th>\n",
       "      <th>averageweight</th>\n",
       "    </tr>\n",
       "  </thead>\n",
       "  <tbody>\n",
       "    <tr>\n",
       "      <th>27920</th>\n",
       "      <td>Bingo</td>\n",
       "      <td>27921</td>\n",
       "      <td>3.03029</td>\n",
       "      <td>2797</td>\n",
       "      <td>60.0</td>\n",
       "      <td>1.0381</td>\n",
       "    </tr>\n",
       "    <tr>\n",
       "      <th>27921</th>\n",
       "      <td>War</td>\n",
       "      <td>27922</td>\n",
       "      <td>2.39123</td>\n",
       "      <td>1755</td>\n",
       "      <td>30.0</td>\n",
       "      <td>1.0064</td>\n",
       "    </tr>\n",
       "    <tr>\n",
       "      <th>27922</th>\n",
       "      <td>Candy Land</td>\n",
       "      <td>27923</td>\n",
       "      <td>3.20277</td>\n",
       "      <td>5082</td>\n",
       "      <td>30.0</td>\n",
       "      <td>1.1370</td>\n",
       "    </tr>\n",
       "    <tr>\n",
       "      <th>27923</th>\n",
       "      <td>Chutes and Ladders</td>\n",
       "      <td>27924</td>\n",
       "      <td>2.91774</td>\n",
       "      <td>4904</td>\n",
       "      <td>30.0</td>\n",
       "      <td>1.0397</td>\n",
       "    </tr>\n",
       "    <tr>\n",
       "      <th>27924</th>\n",
       "      <td>Tic-Tac-Toe</td>\n",
       "      <td>27925</td>\n",
       "      <td>2.75726</td>\n",
       "      <td>4099</td>\n",
       "      <td>1.0</td>\n",
       "      <td>1.2810</td>\n",
       "    </tr>\n",
       "  </tbody>\n",
       "</table>\n",
       "</div>"
      ],
      "text/plain": [
       "                game_name   rank  average  usersrated  playingtime  \\\n",
       "27920               Bingo  27921  3.03029        2797         60.0   \n",
       "27921                 War  27922  2.39123        1755         30.0   \n",
       "27922          Candy Land  27923  3.20277        5082         30.0   \n",
       "27923  Chutes and Ladders  27924  2.91774        4904         30.0   \n",
       "27924         Tic-Tac-Toe  27925  2.75726        4099          1.0   \n",
       "\n",
       "       averageweight  \n",
       "27920         1.0381  \n",
       "27921         1.0064  \n",
       "27922         1.1370  \n",
       "27923         1.0397  \n",
       "27924         1.2810  "
      ]
     },
     "execution_count": 168,
     "metadata": {},
     "output_type": "execute_result"
    }
   ],
   "source": [
    "feature_names = ['game_name', 'rank', 'average', 'usersrated', 'playingtime','averageweight']\n",
    "df_input = df_merged[feature_names]\n",
    "df_input.tail()"
   ]
  },
  {
   "cell_type": "code",
   "execution_count": 169,
   "metadata": {},
   "outputs": [
    {
     "data": {
      "text/plain": [
       "array([7316], dtype=int64)"
      ]
     },
     "execution_count": 169,
     "metadata": {},
     "output_type": "execute_result"
    }
   ],
   "source": [
    "user_input = 'Bingo'\n",
    "user_input_game_id = df_merged.loc[df_merged['game_name'] == user_input, 'game_id'].values\n",
    "user_input_game_id"
   ]
  },
  {
   "cell_type": "code",
   "execution_count": 170,
   "metadata": {},
   "outputs": [
    {
     "data": {
      "text/plain": [
       "array([[2.79210e+04, 3.03029e+00, 2.79700e+03, 6.00000e+01, 1.03810e+00]])"
      ]
     },
     "execution_count": 170,
     "metadata": {},
     "output_type": "execute_result"
    }
   ],
   "source": [
    "\n",
    "query_features = np.array(df_input[df_input['game_name'] == user_input].iloc[:, 1:].values.tolist())\n",
    "query_features"
   ]
  },
  {
   "cell_type": "code",
   "execution_count": 147,
   "metadata": {},
   "outputs": [
    {
     "ename": "TypeError",
     "evalue": "'int' object is not callable",
     "output_type": "error",
     "traceback": [
      "\u001b[1;31m---------------------------------------------------------------------------\u001b[0m",
      "\u001b[1;31mTypeError\u001b[0m                                 Traceback (most recent call last)",
      "Cell \u001b[1;32mIn[147], line 1\u001b[0m\n\u001b[1;32m----> 1\u001b[0m scores, recommended_game_ids \u001b[38;5;241m=\u001b[39m \u001b[43mindex\u001b[49m\u001b[43m(\u001b[49m\u001b[43mquery_features\u001b[49m\u001b[43m,\u001b[49m\u001b[43m \u001b[49m\u001b[43mk\u001b[49m\u001b[38;5;241;43m=\u001b[39;49m\u001b[38;5;241;43m10\u001b[39;49m\u001b[43m)\u001b[49m\n\u001b[0;32m      2\u001b[0m recommended_game_ids\u001b[38;5;241m.\u001b[39mnumpy()\n",
      "\u001b[1;31mTypeError\u001b[0m: 'int' object is not callable"
     ]
    }
   ],
   "source": [
    "scores, recommended_game_ids = index(query_features, k=10)\n",
    "recommended_game_ids.numpy()"
   ]
  },
  {
   "cell_type": "code",
   "execution_count": null,
   "metadata": {},
   "outputs": [],
   "source": [
    "filtered_recommendations_ids = recommended_game_ids[recommended_game_ids != user_input_game_id]"
   ]
  },
  {
   "cell_type": "code",
   "execution_count": null,
   "metadata": {},
   "outputs": [
    {
     "data": {
      "text/plain": [
       "9                          Spirit Island\n",
       "29                                  Root\n",
       "38         Viticulture Essential Edition\n",
       "44                             Crokinole\n",
       "47                           Puerto Rico\n",
       "54                            Blood Rage\n",
       "56                              Agricola\n",
       "83     Five Tribes: The Djinns of Naqala\n",
       "175                            Stone Age\n",
       "Name: game_name, dtype: object"
      ]
     },
     "execution_count": 87,
     "metadata": {},
     "output_type": "execute_result"
    }
   ],
   "source": [
    "game_names = df_merged.loc[\n",
    "    df_merged[\"game_id\"].isin(filtered_recommendations_ids.numpy()),\n",
    "    \"game_name\"\n",
    "]\n",
    "game_names"
   ]
  },
  {
   "cell_type": "code",
   "execution_count": null,
   "metadata": {},
   "outputs": [
    {
     "name": "stdout",
     "output_type": "stream",
     "text": [
      "Recommended Boardgames: [237182 170216  31260 157354  34635 162886 183394    521   3076]\n"
     ]
    }
   ],
   "source": [
    "print(\"Recommended Boardgames:\", filtered_recommendations_ids.numpy())"
   ]
  },
  {
   "cell_type": "code",
   "execution_count": 171,
   "metadata": {},
   "outputs": [
    {
     "name": "stdout",
     "output_type": "stream",
     "text": [
      "Top candidate IDs: [ 41658 154892 161926  99219  15474 220738    533 341164  10681 169341]\n",
      "Top scores: [0.9999602  0.9999362  0.99992025 0.9999031  0.9998442  0.99981064\n",
      " 0.99981004 0.9997422  0.9997411  0.99970573]\n"
     ]
    },
    {
     "data": {
      "image/png": "[encoded data removed]",
      "text/plain": [
       "<Figure size 800x600 with 1 Axes>"
      ]
     },
     "metadata": {},
     "output_type": "display_data"
    }
   ],
   "source": [
    "# Assume df_features and df_ids are your complete candidate features and ids.\n",
    "# Create a raw candidate dataset (unbatched).\n",
    "raw_candidate_ds = tf.data.Dataset.from_tensor_slices({\n",
    "    \"features\": df_features.to_numpy().astype(\"float32\"),\n",
    "    \"game_id\": df_game_ids.to_numpy().astype(\"int32\")\n",
    "}).map(lambda x: (x[\"features\"], x[\"game_id\"]))\n",
    "\n",
    "# Batch the candidate dataset uniformly.\n",
    "candidate_embeddings_ds = raw_candidate_ds.batch(1024, drop_remainder=True).map(\n",
    "    lambda features_batch, id_batch: (model.boardgame_model(features_batch), id_batch)\n",
    ")\n",
    "\n",
    "# Collect all candidate embeddings into one tensor.\n",
    "all_candidate_embeddings = []\n",
    "all_candidate_ids = []\n",
    "for embeddings, ids in candidate_embeddings_ds:\n",
    "    all_candidate_embeddings.append(embeddings)\n",
    "    all_candidate_ids.append(ids)\n",
    "\n",
    "combined_candidate_embeddings = tf.concat(all_candidate_embeddings, axis=0)\n",
    "combined_candidate_ids = tf.concat(all_candidate_ids, axis=0)\n",
    "\n",
    "# Compute the query embedding (assume query_features has shape (1, 5)).\n",
    "query_embedding = model.boardgame_model(query_features)  # shape: (1, embedding_dim)\n",
    "\n",
    "# Compute similarity scores (dot product) between the query and all candidate embeddings.\n",
    "# This produces a (1, num_candidates) tensor.\n",
    "scores = tf.matmul(query_embedding, combined_candidate_embeddings, transpose_b=True)\n",
    "scores = tf.squeeze(scores)  # shape: (num_candidates,)\n",
    "\n",
    "# Optionally, sort to get top-k recommendations:\n",
    "top_k = tf.math.top_k(scores, k=10)\n",
    "top_candidate_ids = tf.gather(combined_candidate_ids, top_k.indices)\n",
    "print(\"Top candidate IDs:\", top_candidate_ids.numpy())\n",
    "print(\"Top scores:\", top_k.values.numpy())\n",
    "\n",
    "# Plot the distribution of similarity scores.\n",
    "plt.figure(figsize=(8, 6))\n",
    "plt.hist(scores.numpy(), bins=50, edgecolor=\"k\")\n",
    "plt.xlabel(\"Similarity Score\")\n",
    "plt.ylabel(\"Frequency\")\n",
    "plt.title(\"Distribution of Similarity Scores for Query\")\n",
    "plt.show()\n"
   ]
  }
 ],
 "metadata": {
  "kernelspec": {
   "display_name": ".venv",
   "language": "python",
   "name": "python3"
  },
  "language_info": {
   "codemirror_mode": {
    "name": "ipython",
    "version": 3
   },
   "file_extension": ".py",
   "mimetype": "text/x-python",
   "name": "python",
   "nbconvert_exporter": "python",
   "pygments_lexer": "ipython3",
   "version": "3.11.3"
  }
 },
 "nbformat": 4,
 "nbformat_minor": 2
}
